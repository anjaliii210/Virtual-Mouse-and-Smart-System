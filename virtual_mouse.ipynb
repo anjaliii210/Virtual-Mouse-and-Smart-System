{
 "cells": [
  {
   "cell_type": "code",
   "execution_count": 1,
   "id": "2e592614",
   "metadata": {},
   "outputs": [],
   "source": [
    "import mediapipe as mp\n",
    "import cv2 as cv\n",
    "import pyautogui as pg"
   ]
  },
  {
   "cell_type": "code",
   "execution_count": 9,
   "id": "024fe0ba",
   "metadata": {},
   "outputs": [],
   "source": [
    "def click():             #ACTIONS \n",
    "    pg.click()\n",
    "def r_click():\n",
    "    pg.rightClick()\n",
    "def l_click():\n",
    "    pg.leftClick()\n",
    "#def move_cursor():\n",
    "\n"
   ]
  },
  {
   "cell_type": "code",
   "execution_count": 3,
   "id": "c58a41b5",
   "metadata": {},
   "outputs": [],
   "source": [
    "#Mediapipe Object\n",
    "mp_hands=mp.solutions.hands.Hands(min_detection_confidence=0.5,min_tracking_confidence=0.5,max_num_hands=1)"
   ]
  },
  {
   "cell_type": "code",
   "execution_count": 4,
   "id": "2520fbab",
   "metadata": {},
   "outputs": [],
   "source": [
    "def only_index_up(lm):\n",
    "    if index_up(lm) and not  mid_up(lm) and not ring_up(lm) and not pinky_up(lm):\n",
    "        return True\n",
    "    \n",
    "def index_up(lm):\n",
    "    if lm[8].y<lm[6].y:\n",
    "        return True\n",
    "    \n",
    "def mid_up(lm):\n",
    "    if lm[12].y<lm[10].y:\n",
    "        return True\n",
    "\n",
    "def ring_up(lm):\n",
    "    if lm[16].y<lm[14].y:\n",
    "        return True\n",
    "\n",
    "def pinky_up(lm):\n",
    "    if lm[20].y<lm[18].y:\n",
    "        return True\n",
    "    \n",
    "def thumb_up(lm):\n",
    "    if lm[4].y<lm[2].y:\n",
    "        return True"
   ]
  },
  {
   "cell_type": "code",
   "execution_count": null,
   "id": "a7fd0114",
   "metadata": {},
   "outputs": [],
   "source": [
    "#Capturing video from frame\n",
    "s=cv.VideoCapture(0)\n",
    "screen_w, screen_h = pg.size()\n",
    "#s.set(cv.CAP_PROP_FRAME_HEIGHT,480)\n",
    "#s.set(cv.CAP_PROP_FRAME_WIDTH,480)\n",
    "\n",
    "\n",
    "try:\n",
    "    while True :\n",
    "        has_frame,frame=s.read()\n",
    "        if not has_frame :break\n",
    "        frame=cv.flip(frame,1)                     #flipping frame horizontally\n",
    "        rgb_frame=cv.cvtColor(frame,cv.COLOR_BGR2RGB)            #mediapipe supports rgb format\n",
    "        result=mp_hands.process(rgb_frame)\n",
    "\n",
    "        \n",
    "        if result.multi_hand_landmarks:              #drawing mediapipe landmarks\n",
    "            for hand_landmarks in result.multi_hand_landmarks:\n",
    "                mp.solutions.drawing_utils.draw_landmarks(frame,hand_landmarks,mp.solutions.hands.HAND_CONNECTIONS)     #landmarks drawn on frame  \n",
    "                lm=hand_landmarks.landmark\n",
    "\n",
    "\n",
    "\n",
    "                # if thumb_up(lm):\n",
    "                #     print(\"succesful\")\n",
    "\n",
    "                if only_index_up(lm):\n",
    "                    x_norm = lm[8].x\n",
    "                    y_norm = lm[8].y\n",
    "                    x_screen = screen_w * x_norm\n",
    "                    y_screen = screen_h * y_norm\n",
    "                    pg.moveTo(x_screen, y_screen)\n",
    "                \n",
    "                # if index_thumb_touch(lm):\n",
    "                #     r_click()\n",
    "                \n",
    "                # if thumb_up(lm):\n",
    "                #     click()\n",
    "\n",
    "\n",
    "\n",
    "\n",
    "\n",
    "        cv.imshow('Hand Landmarks',frame)\n",
    "\n",
    "        if cv.waitKey(1) & 0xFF==27: \n",
    "            break \n",
    "\n",
    "finally:\n",
    "    s.release()\n",
    "    cv.destroyAllWindows()"
   ]
  },
  {
   "cell_type": "code",
   "execution_count": null,
   "id": "d0696b73",
   "metadata": {},
   "outputs": [],
   "source": []
  }
 ],
 "metadata": {
  "kernelspec": {
   "display_name": "Python 3",
   "language": "python",
   "name": "python3"
  },
  "language_info": {
   "codemirror_mode": {
    "name": "ipython",
    "version": 3
   },
   "file_extension": ".py",
   "mimetype": "text/x-python",
   "name": "python",
   "nbconvert_exporter": "python",
   "pygments_lexer": "ipython3",
   "version": "3.11.9"
  }
 },
 "nbformat": 4,
 "nbformat_minor": 5
}
